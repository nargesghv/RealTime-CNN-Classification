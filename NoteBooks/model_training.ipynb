{
 "cells": [
  {
   "cell_type": "markdown",
   "id": "83691ec9",
   "metadata": {
    "vscode": {
     "languageId": "plaintext"
    }
   },
   "source": [
    "# 📚 CNN Model Training on Food-101 Dataset"
   ]
  },
  {
   "cell_type": "code",
   "execution_count": null,
   "id": "1b8e972b",
   "metadata": {},
   "outputs": [],
   "source": [
    "import tensorflow as tf\n",
    "from tensorflow.keras import layers, models\n",
    "import matplotlib.pyplot as plt\n",
    "import os\n",
    "\n",
    "# -- Configs --\n",
    "IMG_SIZE = (224, 224)\n",
    "BATCH_SIZE = 32\n",
    "EPOCHS = 15\n",
    "NUM_CLASSES = 101"
   ]
  },
  {
   "cell_type": "code",
   "execution_count": null,
   "id": "81e1330e",
   "metadata": {},
   "outputs": [],
   "source": [
    "# Assume you have train_tfds and val_tfds from the preprocessing notebook\n",
    "\n",
    "# -- CNN Model Architecture --\n",
    "model = models.Sequential([\n",
    "    layers.Input(shape=(224, 224, 3)),\n",
    "    layers.Conv2D(32, 3, activation='relu', padding='same'),\n",
    "    layers.Conv2D(32, 3, activation='relu', padding='same'),\n",
    "    layers.MaxPooling2D(),\n",
    "    layers.Dropout(0.3),\n",
    "\n",
    "    layers.Conv2D(64, 3, activation='relu', padding='same'),\n",
    "    layers.Conv2D(64, 3, activation='relu', padding='same'),\n",
    "    layers.MaxPooling2D(),\n",
    "    layers.Dropout(0.4),\n",
    "\n",
    "    layers.Conv2D(128, 3, activation='relu', padding='same'),\n",
    "    layers.Conv2D(128, 3, activation='relu', padding='same'),\n",
    "    layers.MaxPooling2D(),\n",
    "    layers.Dropout(0.5),\n",
    "\n",
    "    layers.Flatten(),\n",
    "    layers.Dense(512, activation='relu'),\n",
    "    layers.Dropout(0.5),\n",
    "    layers.Dense(NUM_CLASSES, activation='softmax')\n",
    "])\n",
    "\n",
    "model.compile(optimizer='adam', loss='sparse_categorical_crossentropy', metrics=['accuracy'])\n",
    "\n",
    "# -- Train --\n",
    "history = model.fit(train_tfds, validation_data=val_tfds, epochs=EPOCHS)\n",
    "\n",
    "# -- Save Model --\n",
    "os.makedirs('../Models/saved_model/', exist_ok=True)\n",
    "model.save('../Models/saved_model/')\n",
    "\n",
    "# -- Plot --\n",
    "plt.plot(history.history['accuracy'], label='Train Acc')\n",
    "plt.plot(history.history['val_accuracy'], label='Val Acc')\n",
    "plt.legend()\n",
    "plt.title(\"Accuracy\")\n",
    "plt.savefig('../visualizations/accuracy_loss_plot.png')\n",
    "plt.show()"
   ]
  }
 ],
 "metadata": {
  "language_info": {
   "name": "python"
  }
 },
 "nbformat": 4,
 "nbformat_minor": 5
}
