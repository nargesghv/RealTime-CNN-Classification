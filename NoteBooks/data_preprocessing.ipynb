{
 "cells": [
  {
   "cell_type": "markdown",
   "id": "a917795b",
   "metadata": {},
   "source": [
    "# 📚 Data Preprocessing for Food-101 Dataset"
   ]
  },
  {
   "cell_type": "code",
   "execution_count": null,
   "id": "17215ba1",
   "metadata": {},
   "outputs": [],
   "source": [
    "# -- Imports --\n",
    "import tensorflow as tf\n",
    "from datasets import load_dataset\n",
    "import numpy as np\n",
    "import matplotlib.pyplot as plt"
   ]
  },
  {
   "cell_type": "code",
   "execution_count": null,
   "id": "52fce707",
   "metadata": {},
   "outputs": [],
   "source": [
    "# -- Load Food-101 Dataset --\n",
    "print(\"Loading Hugging Face 'food101' dataset...\")\n",
    "food_dataset = load_dataset(\"food101\")\n",
    "\n",
    "# -- Explore Dataset --\n",
    "print(\"Training samples:\", len(food_dataset['train']))\n",
    "print(\"Validation samples:\", len(food_dataset['validation']))\n",
    "\n",
    "# -- Preprocessing Functions --\n",
    "IMG_SIZE = (224, 224)"
   ]
  },
  {
   "cell_type": "code",
   "execution_count": null,
   "id": "89d350bb",
   "metadata": {},
   "outputs": [],
   "source": [
    "def preprocess(example):\n",
    "    image = example['image']\n",
    "    image = tf.image.resize(image, IMG_SIZE)\n",
    "    image = tf.cast(image, tf.float32) / 255.0  # Normalize to [0,1]\n",
    "    label = example['label']\n",
    "    return image, label\n",
    "\n",
    "# -- Prepare TensorFlow Datasets --\n",
    "train_ds = food_dataset['train'].with_transform(preprocess)\n",
    "val_ds = food_dataset['validation'].with_transform(preprocess)\n",
    "\n",
    "# -- Batch and Prefetch --\n",
    "BATCH_SIZE = 32\n",
    "\n",
    "def to_tf_dataset(ds):\n",
    "    return tf.data.Dataset.from_generator(\n",
    "        lambda: (preprocess(example) for example in ds),\n",
    "        output_signature=(\n",
    "            tf.TensorSpec(shape=(224, 224, 3), dtype=tf.float32),\n",
    "            tf.TensorSpec(shape=(), dtype=tf.int64)\n",
    "        )\n",
    "    ).batch(BATCH_SIZE).prefetch(buffer_size=tf.data.AUTOTUNE)\n",
    "\n",
    "train_tfds = to_tf_dataset(train_ds)\n",
    "val_tfds = to_tf_dataset(val_ds)\n",
    "\n",
    "# -- Visualize Few Samples --\n",
    "plt.figure(figsize=(10, 8))\n",
    "for images, labels in train_tfds.take(1):\n",
    "    for i in range(9):\n",
    "        plt.subplot(3, 3, i+1)\n",
    "        plt.imshow(images[i])\n",
    "        plt.title(f\"Class ID: {labels[i].numpy()}\")\n",
    "        plt.axis(\"off\")\n",
    "plt.show()\n",
    "\n",
    "print(\"✅ Data Preprocessing Complete.\")"
   ]
  }
 ],
 "metadata": {
  "kernelspec": {
   "display_name": "Python 3",
   "language": "python",
   "name": "python3"
  },
  "language_info": {
   "codemirror_mode": {
    "name": "ipython",
    "version": 3
   },
   "file_extension": ".py",
   "mimetype": "text/x-python",
   "name": "python",
   "nbconvert_exporter": "python",
   "pygments_lexer": "ipython3",
   "version": "3.11.4"
  }
 },
 "nbformat": 4,
 "nbformat_minor": 5
}
