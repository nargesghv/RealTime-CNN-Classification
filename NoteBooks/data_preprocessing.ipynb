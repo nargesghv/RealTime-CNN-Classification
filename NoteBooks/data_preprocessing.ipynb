{
 "cells": [
  {
   "cell_type": "markdown",
   "id": "a917795b",
   "metadata": {},
   "source": [
    "# 📚 Data Preprocessing for Food-101 Dataset"
   ]
  },
  {
   "cell_type": "code",
   "execution_count": null,
   "id": "52fce707",
   "metadata": {},
   "outputs": [],
   "source": [
    "# -- Imports --\n",
    "import tensorflow as tf\n",
    "from datasets import load_dataset\n",
    "import numpy as np\n",
    "import matplotlib.pyplot as plt\n",
    "\n",
    "# -- Load Food-101 Dataset --\n",
    "print(\"Loading Hugging Face 'food101' dataset...\")\n",
    "food_dataset = load_dataset(\"food101\")\n",
    "\n",
    "# -- Explore Dataset --\n",
    "print(\"Training samples:\", len(food_dataset['train']))\n",
    "print(\"Validation samples:\", len(food_dataset['validation']))\n",
    "\n",
    "# -- Preprocessing Functions --\n",
    "IMG_SIZE = (224, 224)"
   ]
  },
  {
   "cell_type": "code",
   "execution_count": null,
   "id": "89d350bb",
   "metadata": {},
   "outputs": [],
   "source": [
    "def preprocess(example):\n",
    "    image = tf.convert_to_tensor(np.array(example['image']))  # Convert PIL to tensor\n",
    "    image = tf.image.resize(image, IMG_SIZE)\n",
    "    image = tf.cast(image, tf.float32) / 255.0  # Normalize to [0,1]\n",
    "    label = example['label']\n",
    "    return {\"image\": image, \"label\": label}  # Must return dict for datasets\n",
    "\n",
    "# -- Apply Preprocessing to Dataset --\n",
    "processed_train = food_dataset['train'].map(preprocess, remove_columns=['image', 'label'])\n",
    "processed_val = food_dataset['validation'].map(preprocess, remove_columns=['image', 'label'])\n",
    "\n",
    "# -- Convert to tf.data.Dataset --\n",
    "BATCH_SIZE = 32\n",
    "\n",
    "def hf_to_tf_dataset(dataset):\n",
    "    return tf.data.Dataset.from_generator(\n",
    "        lambda: ({\"image\": x[\"image\"], \"label\": x[\"label\"]} for x in dataset),\n",
    "        output_signature={\n",
    "            \"image\": tf.TensorSpec(shape=(224, 224, 3), dtype=tf.float32),\n",
    "            \"label\": tf.TensorSpec(shape=(), dtype=tf.int64),\n",
    "        },\n",
    "    ).map(lambda x: (x[\"image\"], x[\"label\"])).batch(BATCH_SIZE).prefetch(tf.data.AUTOTUNE)\n",
    "\n",
    "train_tfds = hf_to_tf_dataset(processed_train)\n",
    "val_tfds = hf_to_tf_dataset(processed_val)\n",
    "\n",
    "# -- Visualize Few Samples --\n",
    "plt.figure(figsize=(10, 8))\n",
    "for images, labels in train_tfds.take(1):\n",
    "    for i in range(9):\n",
    "        plt.subplot(3, 3, i+1)\n",
    "        plt.imshow(images[i])\n",
    "        plt.title(f\"Class ID: {labels[i].numpy()}\")\n",
    "        plt.axis(\"off\")\n",
    "plt.show()\n",
    "\n",
    "print(\"✅ Data Preprocessing Complete.\")\n"
   ]
  }
 ],
 "metadata": {
  "kernelspec": {
   "display_name": ".venv",
   "language": "python",
   "name": "python3"
  },
  "language_info": {
   "codemirror_mode": {
    "name": "ipython",
    "version": 3
   },
   "file_extension": ".py",
   "mimetype": "text/x-python",
   "name": "python",
   "nbconvert_exporter": "python",
   "pygments_lexer": "ipython3",
   "version": "3.11.4"
  }
 },
 "nbformat": 4,
 "nbformat_minor": 5
}
