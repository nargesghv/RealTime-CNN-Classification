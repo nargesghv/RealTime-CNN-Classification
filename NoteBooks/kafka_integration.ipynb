{
 "cells": [
  {
   "cell_type": "markdown",
   "id": "6226fe60",
   "metadata": {},
   "source": [
    "# 📚 Kafka Integration Example (Producer & Consumer)"
   ]
  },
  {
   "cell_type": "code",
   "execution_count": null,
   "id": "752d2004",
   "metadata": {},
   "outputs": [],
   "source": [
    "from kafka import KafkaProducer, KafkaConsumer\n",
    "import cv2, base64, json, numpy as np, tensorflow as tf"
   ]
  },
  {
   "cell_type": "code",
   "execution_count": null,
   "id": "c8a867ad",
   "metadata": {},
   "outputs": [],
   "source": [
    "# Kafka Config\n",
    "TOPIC = 'image-topic'\n",
    "SERVER = 'localhost:9092'"
   ]
  },
  {
   "cell_type": "code",
   "execution_count": null,
   "id": "c00bf189",
   "metadata": {},
   "outputs": [],
   "source": [
    "# --- Producer (simulates webcam)\n",
    "producer = KafkaProducer(bootstrap_servers=[SERVER],\n",
    "                         value_serializer=lambda x: json.dumps(x).encode())\n",
    "\n",
    "cap = cv2.VideoCapture(0)\n",
    "while True:\n",
    "    ret, frame = cap.read()\n",
    "    _, buffer = cv2.imencode('.jpg', frame)\n",
    "    img_bytes = base64.b64encode(buffer).decode()\n",
    "    producer.send(TOPIC, value={\"image\": img_bytes})\n",
    "    if cv2.waitKey(1) & 0xFF == ord('q'):\n",
    "        break\n",
    "cap.release()\n",
    "\n",
    "# --- Consumer (shows image)\n",
    "consumer = KafkaConsumer(TOPIC,\n",
    "                         bootstrap_servers=[SERVER],\n",
    "                         auto_offset_reset='latest',\n",
    "                         value_deserializer=lambda x: json.loads(x.decode()))\n",
    "\n",
    "for msg in consumer:\n",
    "    img_data = base64.b64decode(msg.value['image'])\n",
    "    arr = np.frombuffer(img_data, np.uint8)\n",
    "    frame = cv2.imdecode(arr, 1)\n",
    "    cv2.imshow(\"Kafka Stream\", frame)\n",
    "    if cv2.waitKey(1) & 0xFF == ord('q'):\n",
    "        break\n",
    "cv2.destroyAllWindows()"
   ]
  }
 ],
 "metadata": {
  "language_info": {
   "name": "python"
  }
 },
 "nbformat": 4,
 "nbformat_minor": 5
}
