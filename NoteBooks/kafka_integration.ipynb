{
 "cells": [
  {
   "cell_type": "markdown",
   "id": "6226fe60",
   "metadata": {},
   "source": [
    "# 📚 Kafka Integration Example (Producer & Consumer)"
   ]
  },
  {
   "cell_type": "code",
   "execution_count": null,
   "id": "c00bf189",
   "metadata": {},
   "outputs": [],
   "source": [
    "# -- Imports --\n",
    "from kafka import KafkaProducer, KafkaConsumer\n",
    "import cv2\n",
    "import base64\n",
    "import numpy as np\n",
    "import tensorflow as tf\n",
    "import json\n",
    "\n",
    "# -- Kafka Config --\n",
    "KAFKA_TOPIC = \"image-topic\"\n",
    "KAFKA_SERVER = \"localhost:9092\"\n",
    "\n",
    "# -- Kafka Producer: Sending Images --\n",
    "producer = KafkaProducer(\n",
    "    bootstrap_servers=[KAFKA_SERVER],\n",
    "    value_serializer=lambda x: json.dumps(x).encode('utf-8')\n",
    ")\n",
    "\n",
    "# Load a sample image for demonstration\n",
    "sample_image = tf.keras.utils.get_file(\n",
    "    \"grace_hopper.jpg\",\n",
    "    \"https://storage.googleapis.com/download.tensorflow.org/example_images/grace_hopper.jpg\"\n",
    ")\n",
    "\n",
    "image = cv2.imread(sample_image)\n",
    "_, buffer = cv2.imencode('.jpg', image)\n",
    "jpg_as_text = base64.b64encode(buffer).decode('utf-8')\n",
    "\n",
    "# Send the encoded image to Kafka\n",
    "data = {\"image\": jpg_as_text}\n",
    "producer.send(KAFKA_TOPIC, value=data)\n",
    "producer.flush()\n",
    "print(\"✅ Sent one sample image to Kafka.\")\n",
    "\n",
    "# -- Kafka Consumer: Receiving Images --\n",
    "consumer = KafkaConsumer(\n",
    "    KAFKA_TOPIC,\n",
    "    bootstrap_servers=[KAFKA_SERVER],\n",
    "    auto_offset_reset='earliest',\n",
    "    value_deserializer=lambda x: json.loads(x.decode('utf-8'))\n",
    ")\n",
    "\n",
    "print(\"✅ Listening for images...\")\n",
    "for message in consumer:\n",
    "    encoded_img = message.value['image']\n",
    "    img_bytes = base64.b64decode(encoded_img)\n",
    "    nparr = np.frombuffer(img_bytes, np.uint8)\n",
    "    img_np = cv2.imdecode(nparr, cv2.IMREAD_COLOR)\n",
    "\n",
    "    # Display the received image\n",
    "    cv2.imshow('Kafka Image Stream', img_np)\n",
    "    if cv2.waitKey(1) & 0xFF == ord('q'):\n",
    "        break\n",
    "\n",
    "cv2.destroyAllWindows()\n"
   ]
  }
 ],
 "metadata": {
  "language_info": {
   "name": "python"
  }
 },
 "nbformat": 4,
 "nbformat_minor": 5
}
